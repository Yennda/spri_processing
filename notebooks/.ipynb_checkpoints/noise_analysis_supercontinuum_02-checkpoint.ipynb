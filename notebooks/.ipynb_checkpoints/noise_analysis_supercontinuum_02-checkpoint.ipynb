{
 "cells": [
  {
   "cell_type": "raw",
   "metadata": {},
   "source": [
    "https://currents.soest.hawaii.edu/ocn_data_analysis/_static/SEM_EDOF.html"
   ]
  },
  {
   "cell_type": "code",
   "execution_count": 1,
   "metadata": {},
   "outputs": [],
   "source": [
    "import sys\n",
    "sys.path.append('..')"
   ]
  },
  {
   "cell_type": "code",
   "execution_count": 2,
   "metadata": {},
   "outputs": [],
   "source": [
    "%matplotlib inline\n",
    "\n",
    "import math as m\n",
    "import numpy as np\n",
    "import scipy.signal as signal\n",
    "\n",
    "import matplotlib\n",
    "import matplotlib.pyplot as plt\n",
    "\n",
    "from core import Core\n",
    "\n",
    "from global_var import COLORS\n"
   ]
  },
  {
   "cell_type": "code",
   "execution_count": 3,
   "metadata": {},
   "outputs": [],
   "source": [
    "matplotlib.rc('font', family='serif') \n",
    "matplotlib.rc('font', serif='Palatino Linotype') \n",
    "matplotlib.rc('text', usetex='false') \n",
    "matplotlib.rcParams.update({'font.size': 20})"
   ]
  },
  {
   "cell_type": "code",
   "execution_count": null,
   "metadata": {},
   "outputs": [],
   "source": [
    "well = 32700\n",
    "average = 10"
   ]
  },
  {
   "cell_type": "code",
   "execution_count": 8,
   "metadata": {},
   "outputs": [],
   "source": [
    "folder = r'D:\\SPRUP_data_Jenda\\21_04_14_DG600A1/'.replace('\\\\', '/')\n",
    "\n",
    "file = 'raw_01_'\n",
    "i = 3\n",
    "\n",
    "c = Core(folder, file+str(i))\n",
    "c.k = 10\n",
    "c.type = 'raw'"
   ]
  },
  {
   "cell_type": "code",
   "execution_count": 25,
   "metadata": {},
   "outputs": [],
   "source": [
    "c_std = np.zeros(c.shape_img)\n",
    "for i in range(c.shape_img[0]):\n",
    "    for j in range(c.shape_img[1]):    \n",
    "        c_std[i, j] = np.std(c._data_raw[i, j, :])/c.area*well"
   ]
  },
  {
   "cell_type": "code",
   "execution_count": 29,
   "metadata": {},
   "outputs": [
    {
     "name": "stdout",
     "output_type": "stream",
     "text": [
      "0.00039489237417841686\n",
      "0.0256527743995427\n",
      "0.015393749152741016\n"
     ]
    }
   ],
   "source": [
    "i_avg = np.average(c._data_raw)/c.area*well\n",
    "print(np.average(c_std))\n",
    "print(i_avg)\n",
    "print(np.average(c_std)/i_avg)"
   ]
  },
  {
   "cell_type": "code",
   "execution_count": 20,
   "metadata": {},
   "outputs": [
    {
     "name": "stdout",
     "output_type": "stream",
     "text": [
      "7706.267013572509\n",
      "0.011303270032707247\n",
      "70770.39706959708\n",
      "0.10380342479577942\n"
     ]
    }
   ],
   "source": [
    "print(np.sum(c.frame(i)/c.area*well))\n",
    "print(np.std(c.frame(i)/c.area*well))\n",
    "print(np.sum(c.frame(i)))\n",
    "print(np.std(c.frame(i)))"
   ]
  },
  {
   "cell_type": "code",
   "execution_count": null,
   "metadata": {},
   "outputs": [],
   "source": []
  }
 ],
 "metadata": {
  "kernelspec": {
   "display_name": "Python 3",
   "language": "python",
   "name": "python3"
  },
  "language_info": {
   "codemirror_mode": {
    "name": "ipython",
    "version": 3
   },
   "file_extension": ".py",
   "mimetype": "text/x-python",
   "name": "python",
   "nbconvert_exporter": "python",
   "pygments_lexer": "ipython3",
   "version": "3.8.5"
  }
 },
 "nbformat": 4,
 "nbformat_minor": 4
}
