{
 "cells": [
  {
   "cell_type": "code",
   "execution_count": 19,
   "metadata": {},
   "outputs": [],
   "source": [
    "import math as m\n",
    "import numpy as np"
   ]
  },
  {
   "cell_type": "code",
   "execution_count": 20,
   "metadata": {},
   "outputs": [],
   "source": [
    "times = [\n",
    "    5249378121087948155,\n",
    "    5249378121088917724,\n",
    "    5249378121089887295,\n",
    "    5249378121090856892,\n",
    "    5249378121091826439,\n",
    "    5249378121092796143,\n",
    "    5249378121093765709,\n",
    "    5249378121094735256,\n",
    "    5249378121095704831\n",
    "]"
   ]
  },
  {
   "cell_type": "code",
   "execution_count": 21,
   "metadata": {},
   "outputs": [
    {
     "data": {
      "text/plain": [
       "969584.5"
      ]
     },
     "execution_count": 21,
     "metadata": {},
     "output_type": "execute_result"
    }
   ],
   "source": [
    "np.average([times[i+1] - times[i] for i in range(len(times)-1)])"
   ]
  },
  {
   "cell_type": "code",
   "execution_count": 29,
   "metadata": {},
   "outputs": [],
   "source": [
    "rows = 7425\n",
    "out = 'DateTimeTicks100ns\tWidth\tHeight\tBpp\tETS\tAveraging\tDataType\\n'\n",
    "for i in range(rows):\n",
    "    out += '{}\t332\t283\t12\t0.008\t12\tDouble\\n'.format(5249378121087948155 + 969585*i)"
   ]
  },
  {
   "cell_type": "code",
   "execution_count": 30,
   "metadata": {
    "scrolled": false
   },
   "outputs": [],
   "source": [
    "folder = r'C:\\SPRUP_data_Jenda\\2019_03_13_Jenda_microscopy\\21_10_07_DG657_B2_8/'.replace('\\\\', '/')\n",
    "\n",
    "f = open(folder + 'raw_03_1.tsv', \"w\")\n",
    "f.write(out)\n",
    "f.close()"
   ]
  },
  {
   "cell_type": "code",
   "execution_count": 31,
   "metadata": {},
   "outputs": [
    {
     "data": {
      "text/plain": [
       "93956.0"
      ]
     },
     "execution_count": 31,
     "metadata": {},
     "output_type": "execute_result"
    }
   ],
   "source": [
    "697623300/rows"
   ]
  },
  {
   "cell_type": "raw",
   "metadata": {},
   "source": [
    "\n",
    "core 1: intensity: 18842.788811104296\n",
    "core 1: average px: 0.19306136076950958\n",
    "core 1: average px x area: 18842.788811104136\n",
    "core 1: shot_noise: 0.003654161975361688\n",
    "core 1: noise: 0.00393633319865607\n",
    "core 1: 107.7 % of shot noise\n",
    "core 1: SPR file not found. Diseable ploting of SPR. \n",
    "core 1: shot_noise: 0.0038489426405519493\n",
    "core 1: noise: 0.004215080565443407\n",
    "core 1: 109.5 % of shot noise\n",
    "\n",
    "\n",
    "\n",
    "\n",
    "core 2: intensity: 24754.748527767173\n",
    "core 2: average px: 0.22752526220374264\n",
    "core 2: average px x area: 24754.7485277672\n",
    "core 2: shot_noise: 0.004122553366573368\n",
    "core 2: noise: 0.006817638355367341\n",
    "core 2: 165.4 % of shot noise"
   ]
  },
  {
   "cell_type": "code",
   "execution_count": 39,
   "metadata": {},
   "outputs": [
    {
     "name": "stdout",
     "output_type": "stream",
     "text": [
      "75757.27796595555\n"
     ]
    },
    {
     "data": {
      "text/plain": [
       "0.003633187565680565"
      ]
     },
     "execution_count": 39,
     "metadata": {},
     "output_type": "execute_result"
    }
   ],
   "source": [
    "inte = 0.19306136076950958*32700\n",
    "print(inte*12)\n",
    "1/inte**0.5/12**0.5"
   ]
  },
  {
   "cell_type": "code",
   "execution_count": 41,
   "metadata": {},
   "outputs": [
    {
     "name": "stdout",
     "output_type": "stream",
     "text": [
      "59520.60859249908\n"
     ]
    },
    {
     "data": {
      "text/plain": [
       "0.004098890518108315"
      ]
     },
     "execution_count": 41,
     "metadata": {},
     "output_type": "execute_result"
    }
   ],
   "source": [
    "inte = 0.22752526220374264*32700\n",
    "print(inte*8)\n",
    "\n",
    "1/inte**0.5/8**0.5"
   ]
  },
  {
   "cell_type": "code",
   "execution_count": 42,
   "metadata": {},
   "outputs": [
    {
     "data": {
      "text/plain": [
       "1.2727990591397849"
      ]
     },
     "execution_count": 42,
     "metadata": {},
     "output_type": "execute_result"
    }
   ],
   "source": [
    "75757/59520"
   ]
  }
 ],
 "metadata": {
  "kernelspec": {
   "display_name": "Python 3",
   "language": "python",
   "name": "python3"
  },
  "language_info": {
   "codemirror_mode": {
    "name": "ipython",
    "version": 3
   },
   "file_extension": ".py",
   "mimetype": "text/x-python",
   "name": "python",
   "nbconvert_exporter": "python",
   "pygments_lexer": "ipython3",
   "version": "3.8.5"
  }
 },
 "nbformat": 4,
 "nbformat_minor": 4
}
